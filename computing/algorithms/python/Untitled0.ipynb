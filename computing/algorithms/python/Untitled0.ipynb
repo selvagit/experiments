{
 "metadata": {
  "name": "",
  "signature": "sha256:24a52847662be08ca495285ead1c5a8f884f6f3c30217311f3b2eb51e10f327f"
 },
 "nbformat": 3,
 "nbformat_minor": 0,
 "worksheets": [
  {
   "cells": [
    {
     "cell_type": "code",
     "collapsed": false,
     "input": [
      "pylab inline\n"
     ],
     "language": "python",
     "metadata": {},
     "outputs": [
      {
       "ename": "SyntaxError",
       "evalue": "invalid syntax (<ipython-input-1-b794e5809f34>, line 1)",
       "output_type": "pyerr",
       "traceback": [
        "\u001b[0;36m  File \u001b[0;32m\"<ipython-input-1-b794e5809f34>\"\u001b[0;36m, line \u001b[0;32m1\u001b[0m\n\u001b[0;31m    pylab inline\u001b[0m\n\u001b[0m               ^\u001b[0m\n\u001b[0;31mSyntaxError\u001b[0m\u001b[0;31m:\u001b[0m invalid syntax\n"
       ]
      }
     ],
     "prompt_number": 1
    },
    {
     "cell_type": "code",
     "collapsed": false,
     "input": [
      "%pylab inline "
     ],
     "language": "python",
     "metadata": {},
     "outputs": [
      {
       "output_type": "stream",
       "stream": "stdout",
       "text": [
        "Populating the interactive namespace from numpy and matplotlib\n"
       ]
      }
     ],
     "prompt_number": 2
    },
    {
     "cell_type": "code",
     "collapsed": false,
     "input": [
      "import numpy as np\n",
      "import scipy as sp\n",
      "import matplotlib.pyplot as plt\n",
      "import sklearn \n",
      "import IPython\n",
      "import platform \n",
      "\n",
      "print ('python version :', platform.python_version())\n",
      "print ('Ipython version :', IPython.__version__)\n",
      "print ('numpy verions :', np.__version__)\n",
      "print ('scikit-learn version:', sklearn.__version__)\n",
      "print ('matplotlib version:', matplotlib.__version__)"
     ],
     "language": "python",
     "metadata": {},
     "outputs": [
      {
       "output_type": "stream",
       "stream": "stdout",
       "text": [
        "('python version :', '2.7.11')\n",
        "('Ipython version :', '2.4.1')\n",
        "('numpy verions :', '1.11.2')\n",
        "('scikit-learn version:', '0.17.1')\n",
        "('matplotlib version:', '1.5.3')\n"
       ]
      }
     ],
     "prompt_number": 4
    },
    {
     "cell_type": "code",
     "collapsed": false,
     "input": [],
     "language": "python",
     "metadata": {},
     "outputs": []
    },
    {
     "cell_type": "code",
     "collapsed": false,
     "input": [
      "from sklearn import datasets\n",
      "iris = datasets.load_iris()\n",
      "X_iris = iris.data\n",
      "Y_iris = iris.target\n",
      "\n"
     ],
     "language": "python",
     "metadata": {},
     "outputs": [],
     "prompt_number": 6
    },
    {
     "cell_type": "code",
     "collapsed": false,
     "input": [
      "print ( X_iris.shape, Y_iris.shape)\n",
      "print ('Feature names :{0}'.format(iris.feature_names))\n",
      "print ('Target class : {0}'.format(iris.target_names))\n",
      "print ('First Instance feature : {0}'.format(X_iris[0]))\n"
     ],
     "language": "python",
     "metadata": {},
     "outputs": [
      {
       "output_type": "stream",
       "stream": "stdout",
       "text": [
        "((150, 4), (150,))\n",
        "Feature names :['sepal length (cm)', 'sepal width (cm)', 'petal length (cm)', 'petal width (cm)']\n",
        "Target class : ['setosa' 'versicolor' 'virginica']"
       ]
      },
      {
       "output_type": "stream",
       "stream": "stdout",
       "text": [
        "\n",
        "First Instance feature : [ 5.1  3.5  1.4  0.2]"
       ]
      },
      {
       "output_type": "stream",
       "stream": "stdout",
       "text": [
        "\n"
       ]
      }
     ],
     "prompt_number": 7
    }
   ],
   "metadata": {}
  }
 ]
}